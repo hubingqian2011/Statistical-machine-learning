{
 "cells": [
  {
   "cell_type": "code",
   "execution_count": 1,
   "metadata": {},
   "outputs": [],
   "source": [
    "# dowload data\n",
    "from sklearn.datasets import load_digits\n",
    "digits = load_digits()"
   ]
  },
  {
   "cell_type": "code",
   "execution_count": 2,
   "metadata": {},
   "outputs": [
    {
     "name": "stdout",
     "output_type": "stream",
     "text": [
      "Image Data Shape (1797, 64)\n",
      "Label Data Shape (1797,)\n"
     ]
    }
   ],
   "source": [
    "print(\"Image Data Shape\" , digits.data.shape)\n",
    "print(\"Label Data Shape\",  digits.target.shape)"
   ]
  },
  {
   "cell_type": "code",
   "execution_count": 3,
   "metadata": {},
   "outputs": [
    {
     "data": {
      "image/png": "[encoded data removed]",
      "text/plain": [
       "<Figure size 1440x288 with 5 Axes>"
      ]
     },
     "metadata": {
      "needs_background": "light"
     },
     "output_type": "display_data"
    }
   ],
   "source": [
    "import numpy as np \n",
    "import matplotlib.pyplot as plt\n",
    "\n",
    "plt.figure(figsize=(20,4))\n",
    "for index, (image, label) in enumerate(zip(digits.data[0:5], digits.target[0:5])):\n",
    "    plt.subplot(1, 5, index + 1)\n",
    "    plt.imshow(np.reshape(image, (8,8)), cmap=plt.cm.gray)\n",
    "    plt.title('Training: %i\\n' % label, fontsize = 20)\n",
    "    \n",
    "# the training data and testing data"
   ]
  },
  {
   "cell_type": "code",
   "execution_count": 4,
   "metadata": {},
   "outputs": [],
   "source": [
    "from sklearn.model_selection import train_test_split\n",
    "x_train, x_test, y_train, y_test = train_test_split(digits.data, digits.target, test_size=0.25, random_state=0)"
   ]
  },
  {
   "cell_type": "code",
   "execution_count": 5,
   "metadata": {},
   "outputs": [
    {
     "name": "stdout",
     "output_type": "stream",
     "text": [
      "Trainning Data Shape (1347, 64)\n",
      "Trainning Label Data Shape (1347,)\n"
     ]
    }
   ],
   "source": [
    "print(\"Trainning Data Shape\" , x_train.shape)\n",
    "print(\"Trainning Label Data Shape\",  y_train.shape)"
   ]
  },
  {
   "cell_type": "code",
   "execution_count": 9,
   "metadata": {},
   "outputs": [
    {
     "name": "stdout",
     "output_type": "stream",
     "text": [
      "[[0. 0. 1. ... 0. 0. 0.]\n",
      " [0. 0. 0. ... 0. 1. 0.]\n",
      " [0. 0. 0. ... 0. 0. 1.]\n",
      " ...\n",
      " [0. 0. 0. ... 1. 0. 0.]\n",
      " [0. 0. 0. ... 1. 0. 0.]\n",
      " [0. 0. 0. ... 0. 1. 0.]]\n",
      "[[0. 0. 1. ... 0. 0. 0.]\n",
      " [0. 0. 0. ... 0. 1. 0.]\n",
      " [0. 0. 1. ... 0. 0. 0.]\n",
      " ...\n",
      " [0. 0. 0. ... 0. 0. 0.]\n",
      " [0. 1. 0. ... 0. 0. 0.]\n",
      " [0. 0. 0. ... 0. 0. 1.]]\n"
     ]
    }
   ],
   "source": [
    "# the question is one vs All\n",
    "# data preprocess\n",
    "from sklearn.preprocessing import OneHotEncoder\n",
    "onehot_encoder = OneHotEncoder(sparse=False)\n",
    "y_train = y_train.reshape(len(y_train), 1)\n",
    "Train_Y = onehot_encoder.fit_transform(y_train)\n",
    "print(Train_Y)\n",
    "\n",
    "y_test = y_test.reshape(len(y_test), 1)\n",
    "Test_Y = onehot_encoder.fit_transform(y_test)\n",
    "print(Test_Y)"
   ]
  },
  {
   "cell_type": "code",
   "execution_count": 151,
   "metadata": {},
   "outputs": [],
   "source": [
    "def OneHotEncoder_Back(x):\n",
    "    results = np.zeros([x.shape[0]])\n",
    "    for i in range(x.shape[0]):\n",
    "        j = np.where(x[i] == 1)[0]\n",
    "        if j.size == 0:\n",
    "            results[i] = 11\n",
    "        else:\n",
    "            results[i] = j[0]\n",
    "    return results"
   ]
  },
  {
   "cell_type": "code",
   "execution_count": 170,
   "metadata": {},
   "outputs": [],
   "source": [
    "class LogisticRegression():\n",
    "    def __init__(self, learn_rate=0.1, max_iter=10000, tol=1e-3):\n",
    "        self.learn_rate = learn_rate\n",
    "        self.max_iter = max_iter\n",
    "        self.tol = tol\n",
    "        self.w = None\n",
    "        self.b = None\n",
    "    \n",
    "    def training(self,data_x,data_y):\n",
    "        self.w = np.zeros([10,data_x.shape[1]])    \n",
    "        self.b = np.zeros(10)\n",
    "        \n",
    "        for i in range(self.max_iter):\n",
    "            \n",
    "            z = np.matmul(self.w,data_x.T).T + self.b\n",
    "            \n",
    "            grad_b = data_y - 1/(1+np.exp(-z))\n",
    "            grad_b = grad_b.sum(axis=0)\n",
    "            \n",
    "            grad_w = np.matmul(data_x.T, (data_y - 1/(1+np.exp(-z)))).T\n",
    "            \n",
    "            if (np.abs(grad_w)<=self.tol).all(): \n",
    "                break\n",
    "            else:\n",
    "                self.w = self.w + self.learn_rate*grad_w/len(data_x) \n",
    "                self.b = self.b + self.learn_rate*grad_b/len(data_x) \n",
    "                \n",
    "    def predict(self,x):       \n",
    "        p = 1/(1+np.exp(-np.dot(x,self.w.T)))        \n",
    "        p[np.where(p>0.5)]=1\n",
    "        p[np.where(p<0.5)]=0        \n",
    "        return p"
   ]
  },
  {
   "cell_type": "code",
   "execution_count": 171,
   "metadata": {},
   "outputs": [],
   "source": [
    "mymodel = LogisticRegression()\n",
    "mymodel.training(x_train,Train_Y)\n",
    "p = mymodel.predict(x_test)"
   ]
  },
  {
   "cell_type": "code",
   "execution_count": 172,
   "metadata": {},
   "outputs": [],
   "source": [
    "predicted = OneHotEncoder_Back(p)"
   ]
  },
  {
   "cell_type": "code",
   "execution_count": 173,
   "metadata": {},
   "outputs": [],
   "source": [
    "actual = OneHotEncoder_Back(Test_Y)"
   ]
  },
  {
   "cell_type": "code",
   "execution_count": 174,
   "metadata": {},
   "outputs": [],
   "source": [
    "accuracy = np.count_nonzero(np.array([predicted==actual]))/predicted.shape[0]"
   ]
  },
  {
   "cell_type": "code",
   "execution_count": 175,
   "metadata": {},
   "outputs": [
    {
     "data": {
      "text/plain": [
       "0.86"
      ]
     },
     "execution_count": 175,
     "metadata": {},
     "output_type": "execute_result"
    }
   ],
   "source": [
    "accuracy"
   ]
  },
  {
   "cell_type": "code",
   "execution_count": null,
   "metadata": {},
   "outputs": [],
   "source": []
  },
  {
   "cell_type": "code",
   "execution_count": null,
   "metadata": {},
   "outputs": [],
   "source": []
  },
  {
   "cell_type": "code",
   "execution_count": null,
   "metadata": {},
   "outputs": [],
   "source": []
  },
  {
   "cell_type": "code",
   "execution_count": null,
   "metadata": {},
   "outputs": [],
   "source": []
  }
 ],
 "metadata": {
  "kernelspec": {
   "display_name": "Python 3",
   "language": "python",
   "name": "python3"
  },
  "language_info": {
   "codemirror_mode": {
    "name": "ipython",
    "version": 3
   },
   "file_extension": ".py",
   "mimetype": "text/x-python",
   "name": "python",
   "nbconvert_exporter": "python",
   "pygments_lexer": "ipython3",
   "version": "3.8.3"
  }
 },
 "nbformat": 4,
 "nbformat_minor": 4
}
