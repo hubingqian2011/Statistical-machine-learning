{
 "cells": [
  {
   "cell_type": "code",
   "execution_count": 53,
   "metadata": {},
   "outputs": [],
   "source": [
    "# Create data\n",
    "from sklearn.datasets.samples_generator import make_blobs\n",
    "X, y = make_blobs(n_samples=400, centers=4, cluster_std=0.85, random_state=0)\n",
    "X = X[:, ::-1]"
   ]
  },
  {
   "cell_type": "code",
   "execution_count": 41,
   "metadata": {},
   "outputs": [
    {
     "data": {
      "image/png": "[encoded data removed]",
      "text/plain": [
       "<Figure size 432x288 with 1 Axes>"
      ]
     },
     "metadata": {
      "needs_background": "light"
     },
     "output_type": "display_data"
    }
   ],
   "source": [
    "import numpy as np\n",
    "import matplotlib.pyplot as plt\n",
    "for i in range(len(X)):\n",
    "    if y[i] == 0:\n",
    "        plt.scatter(X[i][0],X[i][1],label='1',color='blue')\n",
    "    if y[i] == 1:\n",
    "        plt.scatter(X[i][0],X[i][1],label='0',color='orange')\n",
    "    if y[i] == 2:\n",
    "        plt.scatter(X[i][0],X[i][1],label='0',color='red')\n",
    "    if y[i] == 3:\n",
    "        plt.scatter(X[i][0],X[i][1],label='0',color='black')"
   ]
  },
  {
   "cell_type": "code",
   "execution_count": 122,
   "metadata": {},
   "outputs": [],
   "source": [
    "class NaiveBayesClassifier():\n",
    "    \n",
    "    def __init__(self, max_bins=10):\n",
    "        self.class_num = 4\n",
    "\n",
    "    def training(self, X_train, y_train):\n",
    "        Prior_probability = np.zeros(self.class_num)\n",
    "        Post_probability  = np.zeros(X_train.shape)\n",
    "        \n",
    "        X_train1_y_train = np.concatenate((np.array([X_train[:,0]]).T,np.array([y_train]).T),axis=1)\n",
    "        X_train2_y_train = np.concatenate((np.array([X_train[:,1]]).T,np.array([y_train]).T),axis=1)\n",
    "        \n",
    "        (unique_y, counts_y) = np.unique(y_train, return_counts=True)\n",
    "        \n",
    "        (unique_x1, counts_x1) = np.unique(X_train1_y_train, return_counts=True, axis=0)\n",
    "        (unique_x2, counts_x2) = np.unique(X_train2_y_train, return_counts=True, axis=0)\n",
    "        \n",
    "        for i in range(self.class_num):\n",
    "            Prior_probability[i] = counts[i]/sum(y_train) \n",
    "            for j in range(X_train.shape[0]):\n",
    "                index_j_in_unique_x1 = np.where(np.logical_and(unique_x1[:,0] == X_train1_y_train[j,0], unique_x1[:,1] == X_train1_y_train[j,1]))[0]             \n",
    "                Post_probability[j][0] = counts_x1[index_j_in_unique_x1]/counts_y[y_train[j]]\n",
    "                \n",
    "                index_j_in_unique_x2 = np.where(np.logical_and(unique_x2[:,0] == X_train2_y_train[j,0], unique_x2[:,1] == X_train2_y_train[j,1]))[0]             \n",
    "                Post_probability[j][1] = counts_x2[index_j_in_unique_x2]/counts_y[y_train[j]]\n",
    "                \n",
    "    def fit(self,X_train):\n",
    "        Probability = np.zeros([X_train.shape[0],self.class_num])\n",
    "        for j in range(X_train.shape[0]):\n",
    "            for i in range(self.class_num):\n",
    "\n",
    "                index_1 = np.where(np.logical_and(unique_x1[:,0] == X_train[j,0], unique_x1[:,1] == i))[0]\n",
    "                index_2 = np.where(np.logical_and(unique_x2[:,0] == X_train[j,1], unique_x2[:,1] == i))[0]\n",
    "                if index_1.size == 0 or index_2.size == 0:\n",
    "                    Probability[j,i] = 0.0\n",
    "                else:\n",
    "                    Probability[j,i] = Prior_probability[i]*Post_probability[index_1[0]][0]*Post_probability[index_2[0]][1]       \n",
    "    \n",
    "    def predict(self):      \n",
    "        results = np.argmax(Probability, axis=1)     \n",
    "        return results"
   ]
  },
  {
   "cell_type": "code",
   "execution_count": 123,
   "metadata": {},
   "outputs": [],
   "source": [
    "mymodel = NaiveBayesClassifier()\n",
    "mymodel.training(X,y)\n",
    "mymodel.fit(X)\n",
    "predicted_y = mymodel.predict()"
   ]
  },
  {
   "cell_type": "code",
   "execution_count": 124,
   "metadata": {},
   "outputs": [
    {
     "data": {
      "text/plain": [
       "array([0, 0, 0, 0, 0, 0, 0, 0, 0, 0, 0, 0, 0, 0, 0, 0, 0, 0, 0, 0, 0, 0,\n",
       "       0, 0, 0, 0, 0, 0, 0, 0, 0, 0, 0, 0, 0, 0, 0, 0, 0, 0, 0, 0, 0, 0,\n",
       "       0, 0, 0, 0, 0, 0, 0, 0, 0, 0, 0, 0, 0, 0, 0, 0, 0, 0, 0, 0, 0, 0,\n",
       "       0, 0, 0, 0, 0, 0, 0, 0, 0, 0, 0, 0, 0, 0, 0, 0, 0, 0, 0, 0, 0, 0,\n",
       "       0, 0, 0, 0, 0, 0, 0, 0, 0, 0, 0, 0, 0, 0, 0, 0, 0, 0, 0, 0, 0, 0,\n",
       "       0, 0, 0, 0, 0, 0, 0, 0, 0, 0, 0, 0, 0, 0, 0, 0, 0, 0, 0, 0, 0, 0,\n",
       "       0, 0, 0, 0, 0, 0, 0, 0, 0, 0, 0, 0, 0, 0, 0, 0, 0, 0, 0, 0, 0, 0,\n",
       "       0, 0, 0, 0, 0, 0, 0, 0, 0, 0, 0, 0, 0, 0, 0, 0, 0, 0, 0, 0, 0, 0,\n",
       "       0, 0, 0, 0, 0, 0, 0, 0, 0, 0, 0, 0, 0, 0, 0, 0, 0, 0, 0, 0, 0, 0,\n",
       "       0, 0, 0, 0, 0, 0, 0, 0, 0, 0, 0, 0, 0, 0, 0, 0, 0, 0, 0, 0, 0, 0,\n",
       "       0, 0, 0, 0, 0, 0, 0, 0, 0, 0, 0, 0, 0, 0, 0, 0, 0, 0, 0, 0, 0, 0,\n",
       "       0, 0, 0, 0, 0, 0, 0, 0, 0, 0, 0, 0, 0, 0, 0, 0, 0, 0, 0, 0, 0, 0,\n",
       "       0, 0, 0, 0, 0, 0, 0, 0, 0, 0, 0, 0, 0, 0, 0, 0, 0, 0, 0, 0, 0, 0,\n",
       "       0, 0, 0, 0, 0, 0, 0, 0, 0, 0, 0, 0, 0, 0, 0, 0, 0, 0, 0, 0, 0, 0,\n",
       "       0, 0, 0, 0, 0, 0, 0, 0, 0, 0, 0, 0, 0, 0, 0, 0, 0, 0, 0, 0, 0, 0,\n",
       "       0, 0, 0, 0, 0, 0, 0, 0, 0, 0, 0, 0, 0, 0, 0, 0, 0, 0, 0, 0, 0, 0,\n",
       "       0, 0, 0, 0, 0, 0, 0, 0, 0, 0, 0, 0, 0, 0, 0, 0, 0, 0, 0, 0, 0, 0,\n",
       "       0, 0, 0, 0, 0, 0, 0, 0, 0, 0, 0, 0, 0, 0, 0, 0, 0, 0, 0, 0, 0, 0,\n",
       "       0, 0, 0, 0], dtype=int64)"
      ]
     },
     "execution_count": 124,
     "metadata": {},
     "output_type": "execute_result"
    }
   ],
   "source": [
    "y-predicted_y"
   ]
  },
  {
   "cell_type": "code",
   "execution_count": null,
   "metadata": {},
   "outputs": [],
   "source": []
  }
 ],
 "metadata": {
  "kernelspec": {
   "display_name": "Python 3",
   "language": "python",
   "name": "python3"
  },
  "language_info": {
   "codemirror_mode": {
    "name": "ipython",
    "version": 3
   },
   "file_extension": ".py",
   "mimetype": "text/x-python",
   "name": "python",
   "nbconvert_exporter": "python",
   "pygments_lexer": "ipython3",
   "version": "3.8.3"
  }
 },
 "nbformat": 4,
 "nbformat_minor": 2
}
